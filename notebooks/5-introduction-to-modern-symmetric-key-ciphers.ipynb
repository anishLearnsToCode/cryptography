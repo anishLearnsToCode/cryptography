{
 "cells": [
  {
   "cell_type": "markdown",
   "metadata": {},
   "source": [
    "# Ch5: Introduction To Modern Symmetric Key Ciphers\n",
    "## 5.1 Permutation Box \n",
    "A Permutation Box is a transposition Cipher that takes in a permutation and reorders the bits or a block of data in as per the permutation. There can be 3 types of PBox's:\n",
    "\n",
    "1. Straigt P-Box (is invertible)\n",
    "2. Compression P-Box (is non-invertible)\n",
    "3. Expansion P-Box (is non-invertible)\n",
    "\n",
    "We define a class `PBox` and define the permutation mapping for all 3 types of P-Boxes using a python dictionary."
   ]
  },
  {
   "cell_type": "code",
   "execution_count": 5,
   "metadata": {},
   "outputs": [],
   "source": [
    "class PBox:\n",
    "    def __init__(self, key: dict):\n",
    "        self.key = key\n",
    "        self.in_degree = len(key)\n",
    "        self.out_degree = sum(len(value) if isinstance(value, list) else 1 for value in key.values())\n",
    "\n",
    "    def __repr__(self) -> str:\n",
    "        return 'PBox' + str(self.key)\n",
    "\n",
    "    def permutate(self, sequence: list) -> list:\n",
    "        result = [0] * self.out_degree\n",
    "        for index, value in enumerate(sequence):\n",
    "            if (index + 1) in self.key:\n",
    "                indices = self.key.get(index + 1, [])\n",
    "                indices = indices if isinstance(indices, list) else [indices]\n",
    "                for i in indices:\n",
    "                    result[i - 1] = value\n",
    "        return result\n",
    "\n",
    "    def is_invertible(self) -> bool:\n",
    "        return self.in_degree == self.out_degree\n",
    "\n",
    "    def invert(self):\n",
    "        if self.is_invertible():\n",
    "            result = {}\n",
    "            for index, mapping in self.key.items():\n",
    "                result[mapping] = index\n",
    "            return PBox(result)"
   ]
  },
  {
   "cell_type": "code",
   "execution_count": 6,
   "metadata": {},
   "outputs": [
    {
     "name": "stdout",
     "output_type": "stream",
     "text": [
      "In Degree: 3\n",
      "Out Degree: 2\n",
      "[10, 30]\n"
     ]
    }
   ],
   "source": [
    "# Compression P-Box\n",
    "compression_p_box = PBox({1: 1, 2: [], 3: 2})\n",
    "print('In Degree:', compression_p_box.in_degree)\n",
    "print('Out Degree:', compression_p_box.out_degree)\n",
    "print(compression_p_box.permutate([10, 20, 30]))"
   ]
  },
  {
   "cell_type": "code",
   "execution_count": 7,
   "metadata": {},
   "outputs": [
    {
     "name": "stdout",
     "output_type": "stream",
     "text": [
      "False\n"
     ]
    }
   ],
   "source": [
    "# Compression boxes are non-invertible\n",
    "print(compression_p_box.is_invertible())"
   ]
  },
  {
   "cell_type": "code",
   "execution_count": 8,
   "metadata": {},
   "outputs": [
    {
     "name": "stdout",
     "output_type": "stream",
     "text": [
      "PBox{1: 1, 2: 2, 3: [3, 4]}\n",
      "In Degree: 3\n",
      "Out Degree: 4\n",
      "[10, 20, 30, 30]\n"
     ]
    }
   ],
   "source": [
    "# Expansion P Box\n",
    "expansion_p_box = PBox({1: 1, 2: 2, 3: [3, 4]})\n",
    "print(expansion_p_box)\n",
    "print('In Degree:', expansion_p_box.in_degree)\n",
    "print('Out Degree:', expansion_p_box.out_degree)\n",
    "print(expansion_p_box.permutate([10, 20, 30]))"
   ]
  },
  {
   "cell_type": "code",
   "execution_count": 9,
   "metadata": {},
   "outputs": [
    {
     "name": "stdout",
     "output_type": "stream",
     "text": [
      "False\n"
     ]
    }
   ],
   "source": [
    "# Expansion P Boxes are non invertible\n",
    "print(expansion_p_box.is_invertible())"
   ]
  },
  {
   "cell_type": "code",
   "execution_count": 11,
   "metadata": {},
   "outputs": [
    {
     "name": "stdout",
     "output_type": "stream",
     "text": [
      "In Degree: 3\n",
      "Out Degree: 3\n",
      "[20, 30, 10]\n"
     ]
    }
   ],
   "source": [
    "# Straight P Boxes\n",
    "p_box = PBox({1: 3, 2: 1, 3: 2})\n",
    "print('In Degree:', p_box.in_degree)\n",
    "print('Out Degree:', p_box.out_degree)\n",
    "print(p_box.permutate([10, 20, 30]))"
   ]
  },
  {
   "cell_type": "code",
   "execution_count": 13,
   "metadata": {},
   "outputs": [
    {
     "name": "stdout",
     "output_type": "stream",
     "text": [
      "True\n",
      "Inverse: PBox{3: 1, 1: 2, 2: 3}\n"
     ]
    }
   ],
   "source": [
    "# straight P boxes are invertible\n",
    "print(p_box.is_invertible())\n",
    "print('Inverse:', p_box.invert())"
   ]
  },
  {
   "cell_type": "code",
   "execution_count": 12,
   "metadata": {},
   "outputs": [
    {
     "name": "stdout",
     "output_type": "stream",
     "text": [
      "[10, 20, 30]\n"
     ]
    }
   ],
   "source": [
    "# composition of pemutation and inverse leads in the identity permutations\n",
    "print(p_box.invert().permutate(p_box.permutate([10, 20, 30])))"
   ]
  },
  {
   "cell_type": "markdown",
   "metadata": {},
   "source": [
    "## 5.2 Feistel Cipher\n",
    "The Feistel Cipher is a product cipher and uses many different coomponents, even non-invertible components in the cipher. The non-invertible part is called the __mixer__ and uses the _XOR_ function to encrypt and decrypt a number using a secret key (also a number)."
   ]
  },
  {
   "cell_type": "code",
   "execution_count": 14,
   "metadata": {},
   "outputs": [],
   "source": [
    "class FiestelMixerCipher:\n",
    "    def __init__(self, key: int):\n",
    "        self.key = key\n",
    "\n",
    "    def encrypt(self, number: int) -> int:\n",
    "        return number ^ self.key\n",
    "\n",
    "    def decrypt(self, number: int) -> int:\n",
    "        return self.encrypt(number)"
   ]
  },
  {
   "cell_type": "code",
   "execution_count": null,
   "metadata": {},
   "outputs": [],
   "source": [
    "fiestel_mixer = FiestelMixerCipher(9)\n",
    "ciphertext = fiestel_mixer.encrypt(10)\n",
    "print(ciphertext)"
   ]
  }
 ],
 "metadata": {
  "kernelspec": {
   "display_name": "Python 3",
   "language": "python",
   "name": "python3"
  },
  "language_info": {
   "codemirror_mode": {
    "name": "ipython",
    "version": 3
   },
   "file_extension": ".py",
   "mimetype": "text/x-python",
   "name": "python",
   "nbconvert_exporter": "python",
   "pygments_lexer": "ipython3",
   "version": "3.8.3"
  }
 },
 "nbformat": 4,
 "nbformat_minor": 4
}
