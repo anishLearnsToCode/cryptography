{
 "cells": [
  {
   "cell_type": "markdown",
   "metadata": {},
   "source": [
    "# Ch4: Mathematics of Cryptography: Algebraic Structures\n",
    "## 4.1 Permutation Group\n",
    "In the permutation group we have $n$ elements that have been permutated (can be permuatted) in $n!$ ways. e.g. we have \n",
    "\n",
    "$$\n",
    "P_1 = \n",
    "\\begin{pmatrix}\n",
    "1 & 2 & 3 \\\\\n",
    "3 & 1 & 2\n",
    "\\end{pmatrix}\n",
    "$$\n",
    "\n",
    "We also have another permutation $P_2$ as:\n",
    "$$\n",
    "P_2 = \n",
    "\\begin{pmatrix}\n",
    "1 & 2 & 3 \\\\\n",
    "1 & 3 & 2\n",
    "\\end{pmatrix}\n",
    "$$\n",
    "\n",
    "We can also compose permutations which will again give us a result in the Permutations group.\n",
    "\n",
    "$$\n",
    "P_3 = P_2 \\circ P_1 = \n",
    "\\begin{pmatrix}\n",
    "1 & 2 & 3 \\\\\n",
    "3 & 2 & 1\n",
    "\\end{pmatrix}\n",
    "$$"
   ]
  },
  {
   "cell_type": "code",
   "execution_count": 1,
   "metadata": {},
   "outputs": [],
   "source": [
    "class Permutation(object):\n",
    "    def __init__(self, permutation: list):\n",
    "        self.permutation = permutation\n",
    "        self.permutation_map = self.get_permutations_map(permutation)\n",
    "\n",
    "    def value(self, index: int) -> int:\n",
    "        return self.permutation[index]\n",
    "\n",
    "    def permutate(self, sequence: list) -> list:\n",
    "        result = [0] * len(sequence)\n",
    "        for index, value in enumerate(sequence):\n",
    "            result[self.permutation_map[index] - 1] = value\n",
    "        return result\n",
    "\n",
    "    def get_permutations_map(self, permutation: list) -> list:\n",
    "        result = [0] * len(permutation)\n",
    "        for index, value in enumerate(permutation):\n",
    "            result[value - 1] = index + 1\n",
    "        return result\n",
    "\n",
    "    def compose(self, p):\n",
    "        permutations = [0] * len(self.permutation)\n",
    "        for index, value in enumerate(self.permutation):\n",
    "            permutations[index] = p.permutation[value - 1]\n",
    "        return Permutation(permutations)"
   ]
  },
  {
   "cell_type": "code",
   "execution_count": 2,
   "metadata": {},
   "outputs": [
    {
     "name": "stdout",
     "output_type": "stream",
     "text": [
      "[-4, 17, 89]\n"
     ]
    }
   ],
   "source": [
    "p1 = Permutation([3, 1, 2])\n",
    "p2 = Permutation([1, 3, 2])\n",
    "print(p2.permutate([-4, 89, 17]))"
   ]
  },
  {
   "cell_type": "code",
   "execution_count": 4,
   "metadata": {},
   "outputs": [
    {
     "name": "stdout",
     "output_type": "stream",
     "text": [
      "Newly Created Permutation: [3, 2, 1]\n",
      "[17, 89, -4]\n"
     ]
    }
   ],
   "source": [
    "# We can also compose different permutation groups to get a new permutation group\n",
    "p3 = p2.compose(p1)\n",
    "print('Newly Created Permutation:', p3.permutation)\n",
    "print(p3.permutate([-4, 89, 17]))"
   ]
  }
 ],
 "metadata": {
  "kernelspec": {
   "display_name": "Python 3",
   "language": "python",
   "name": "python3"
  },
  "language_info": {
   "codemirror_mode": {
    "name": "ipython",
    "version": 3
   },
   "file_extension": ".py",
   "mimetype": "text/x-python",
   "name": "python",
   "nbconvert_exporter": "python",
   "pygments_lexer": "ipython3",
   "version": "3.8.3"
  }
 },
 "nbformat": 4,
 "nbformat_minor": 4
}
