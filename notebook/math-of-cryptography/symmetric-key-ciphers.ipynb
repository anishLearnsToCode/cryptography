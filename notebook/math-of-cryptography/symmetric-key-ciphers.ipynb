{
 "cells": [
  {
   "cell_type": "markdown",
   "metadata": {},
   "source": [
    "# Ch3: Traditional Symmetric Key Ciphers\n",
    "## 3. 1 Monoalphabetic Ciphers\n",
    "### 3.1.1 Caeser Shift Cipher (Additive Cipher)\n",
    "In the Caeser shift cipher the plaintext character $x$ is transformed into `(x - 'a' + m) % 26 + 'a'`"
   ]
  },
  {
   "cell_type": "code",
   "execution_count": 9,
   "metadata": {},
   "outputs": [],
   "source": [
    "def caeser_shift(plaintext, shift=0):\n",
    "    return ''.join([chr((ord(letter) - ord('a') + shift) % 26 + 97) for letter in plaintext])"
   ]
  },
  {
   "cell_type": "code",
   "execution_count": 13,
   "metadata": {},
   "outputs": [
    {
     "name": "stdout",
     "output_type": "stream",
     "text": [
      "wtaad\n"
     ]
    }
   ],
   "source": [
    "ciphertext = caeser_shift('hello', 15)\n",
    "print(ciphertext)"
   ]
  },
  {
   "cell_type": "code",
   "execution_count": 14,
   "metadata": {},
   "outputs": [
    {
     "name": "stdout",
     "output_type": "stream",
     "text": [
      "hello\n"
     ]
    }
   ],
   "source": [
    "print(caeser_shift(ciphertext, -15))"
   ]
  },
  {
   "cell_type": "code",
   "execution_count": 16,
   "metadata": {},
   "outputs": [],
   "source": [
    "from collections import Counter\n",
    "def get_frequencies(ciphertext):\n",
    "    return Counter(ciphertext)"
   ]
  },
  {
   "cell_type": "markdown",
   "metadata": {},
   "source": [
    "### 3.1.2 Performing Statistical Analysis on Additive Ciphers"
   ]
  },
  {
   "cell_type": "code",
   "execution_count": 17,
   "metadata": {},
   "outputs": [
    {
     "name": "stdout",
     "output_type": "stream",
     "text": [
      "Counter({'a': 2, 'w': 1, 't': 1, 'd': 1})\n"
     ]
    }
   ],
   "source": [
    "print(get_frequencies(ciphertext))"
   ]
  },
  {
   "cell_type": "markdown",
   "metadata": {},
   "source": [
    "### 3.1.3 Multiplicative Cipher\n",
    "The Ciphertext $C = (P * k) \\% 26$ where k is the key and for decrytping it is $P = (C * k^{-1}) \\% 26$ "
   ]
  },
  {
   "cell_type": "code",
   "execution_count": 21,
   "metadata": {},
   "outputs": [],
   "source": [
    "def multiplicative_cipher_encrypt(plaintext, key):\n",
    "    return [chr(((ord(letter) - ord('a')) * key) % 26 + ord('a')) for letter in plaintext.lower()]"
   ]
  },
  {
   "cell_type": "code",
   "execution_count": 26,
   "metadata": {},
   "outputs": [
    {
     "ename": "SyntaxError",
     "evalue": "invalid syntax (<ipython-input-26-7e731f03d5da>, line 1)",
     "output_type": "error",
     "traceback": [
      "\u001b[1;36m  File \u001b[1;32m\"<ipython-input-26-7e731f03d5da>\"\u001b[1;36m, line \u001b[1;32m1\u001b[0m\n\u001b[1;33m    from ../../src.mathematics import multiplicative_inverse\u001b[0m\n\u001b[1;37m           ^\u001b[0m\n\u001b[1;31mSyntaxError\u001b[0m\u001b[1;31m:\u001b[0m invalid syntax\n"
     ]
    }
   ],
   "source": [
    "def multiplicative_inverse_exists(a, n):\n",
    "    return gcd(a, n) == 1\n",
    "\n",
    "\n",
    "def multiplicative_inverse(b, n):\n",
    "    if multiplicative_inverse_exists(b, n):\n",
    "        return (extended_gcd(n, b)[2] + n) % n\n",
    "    \n",
    "def multiplicative_cipher_decrypt(ciphertext, key):\n",
    "    return [chr(((ord(letter) - ord('a')) * multiplicative_inverse(key, 26)) % 26 + ord('a')) for letter in ciphertext.lower()]"
   ]
  },
  {
   "cell_type": "code",
   "execution_count": 23,
   "metadata": {},
   "outputs": [
    {
     "name": "stdout",
     "output_type": "stream",
     "text": [
      "['o', 'i', 'w', 'w', 'c']\n"
     ]
    }
   ],
   "source": [
    "print(multiplicative_cipher_encrypt('hello', 2))"
   ]
  }
 ],
 "metadata": {
  "kernelspec": {
   "display_name": "Python 3",
   "language": "python",
   "name": "python3"
  },
  "language_info": {
   "codemirror_mode": {
    "name": "ipython",
    "version": 3
   },
   "file_extension": ".py",
   "mimetype": "text/x-python",
   "name": "python",
   "nbconvert_exporter": "python",
   "pygments_lexer": "ipython3",
   "version": "3.8.3"
  }
 },
 "nbformat": 4,
 "nbformat_minor": 4
}
