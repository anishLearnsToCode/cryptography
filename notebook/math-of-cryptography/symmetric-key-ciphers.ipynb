{
 "cells": [
  {
   "cell_type": "markdown",
   "metadata": {},
   "source": [
    "# Ch3: Traditional Symmetric Key Ciphers\n",
    "## 3. 1 Monoalphabetic Ciphers\n",
    "### 3.1.1 Caesar Shift Cipher (Additive Cipher)\n",
    "In the Caeser shift cipher the plaintext character $x$ is transformed into `(x - 'a' + m) % 26 + 'a'`"
   ]
  },
  {
   "cell_type": "code",
   "execution_count": 9,
   "metadata": {},
   "outputs": [],
   "source": [
    "def caeser_shift(plaintext, shift=0):\n",
    "    return ''.join([chr((ord(letter) - ord('a') + shift) % 26 + 97) for letter in plaintext])"
   ]
  },
  {
   "cell_type": "code",
   "execution_count": 13,
   "metadata": {},
   "outputs": [
    {
     "name": "stdout",
     "output_type": "stream",
     "text": [
      "wtaad\n"
     ]
    }
   ],
   "source": [
    "ciphertext = caeser_shift('hello', 15)\n",
    "print(ciphertext)"
   ]
  },
  {
   "cell_type": "code",
   "execution_count": 14,
   "metadata": {},
   "outputs": [
    {
     "name": "stdout",
     "output_type": "stream",
     "text": [
      "hello\n"
     ]
    }
   ],
   "source": [
    "print(caeser_shift(ciphertext, -15))"
   ]
  },
  {
   "cell_type": "code",
   "execution_count": 16,
   "metadata": {},
   "outputs": [],
   "source": [
    "from collections import Counter\n",
    "def get_frequencies(ciphertext):\n",
    "    return Counter(ciphertext)"
   ]
  },
  {
   "cell_type": "markdown",
   "metadata": {},
   "source": [
    "### 3.1.2 Performing Statistical Analysis on Additive Ciphers"
   ]
  },
  {
   "cell_type": "code",
   "execution_count": 17,
   "metadata": {},
   "outputs": [
    {
     "name": "stdout",
     "output_type": "stream",
     "text": [
      "Counter({'a': 2, 'w': 1, 't': 1, 'd': 1})\n"
     ]
    }
   ],
   "source": [
    "print(get_frequencies(ciphertext))"
   ]
  },
  {
   "cell_type": "markdown",
   "metadata": {},
   "source": [
    "### 3.1.3 Multiplicative Cipher\n",
    "The Ciphertext $C = (P * k) \\% 26$ where k is the key and for decrytping it is $P = (C * k^{-1}) \\% 26$ "
   ]
  },
  {
   "cell_type": "code",
   "execution_count": 34,
   "metadata": {},
   "outputs": [],
   "source": [
    "def multiplicative_cipher_encrypt(plaintext, key):\n",
    "    return ''.join([chr(((ord(letter) - ord('a')) * key) % 26 + ord('a')) for letter in plaintext.lower()])"
   ]
  },
  {
   "cell_type": "code",
   "execution_count": 32,
   "metadata": {},
   "outputs": [],
   "source": [
    "def gcd(a, b):\n",
    "    return gcd(b, a % b) if b != 0 else a\n",
    "\n",
    "\n",
    "def extended_gcd(a, b):\n",
    "    s, old_s = 1, 0\n",
    "    t, old_t = 0, 1\n",
    "\n",
    "    while b != 0:\n",
    "        q = a // b\n",
    "        a, b = b, a % b\n",
    "        s, old_s = old_s, s - q * old_s\n",
    "        t, old_t = old_t, t - q * old_t\n",
    "    return a, s, t\n",
    "\n",
    "\n",
    "def multiplicative_inverse_exists(a, n):\n",
    "    return gcd(a, n) == 1\n",
    "\n",
    "\n",
    "def multiplicative_inverse(b, n):\n",
    "    if multiplicative_inverse_exists(b, n):\n",
    "        return (extended_gcd(n, b)[2] + n) % n\n",
    "    \n",
    "\n",
    "def multiplicative_cipher_decrypt(ciphertext, key):\n",
    "    return ''.join(\n",
    "        [chr(((ord(letter) - ord('a')) * multiplicative_inverse(key, 26)) % 26 + ord('a')) for letter in ciphertext.lower()]\n",
    "    )"
   ]
  },
  {
   "cell_type": "code",
   "execution_count": 35,
   "metadata": {},
   "outputs": [
    {
     "name": "stdout",
     "output_type": "stream",
     "text": [
      "xczzu\n"
     ]
    }
   ],
   "source": [
    "print(multiplicative_cipher_encrypt('hello', 7))"
   ]
  },
  {
   "cell_type": "code",
   "execution_count": 33,
   "metadata": {},
   "outputs": [
    {
     "name": "stdout",
     "output_type": "stream",
     "text": [
      "hello\n"
     ]
    }
   ],
   "source": [
    "print(multiplicative_cipher_decrypt('xczzu', 7))"
   ]
  },
  {
   "cell_type": "markdown",
   "metadata": {},
   "source": [
    "### 3.1.3 Affine Ciphers\n",
    "The affine cipher takes in 2 keys $k_1$ and $k_2$ and encrypte the plaintext code $P$ as follows $C = (P * k_1 + k_2) \\% 26$. It decrpyts the ciphertext as follows: $P = ((C - k_2) * k_1^{-1}) \\% 26$. Let us create a class AffineCipher that will offer teh user with 2 methods to encrypt and decrpyt data."
   ]
  },
  {
   "cell_type": "code",
   "execution_count": 58,
   "metadata": {},
   "outputs": [],
   "source": [
    "class AffineCipher:\n",
    "    def __init__(self, k_1, k_2):\n",
    "        self.k_1 = k_1\n",
    "        self.k_2 = k_2\n",
    "        \n",
    "    def char_to_num(self, letter):\n",
    "        letter = letter.lower()\n",
    "        return ord(letter) - ord('a')\n",
    "        \n",
    "    def encrypt(self, plaintext):\n",
    "        return ''.join([chr((self.char_to_num(letter) * self.k_1 + self.k_2) % 26 + ord('A')) for letter in plaintext.lower()])\n",
    "    \n",
    "    def decrypt(self, ciphertext):\n",
    "        return ''.join(\n",
    "            [chr(((self.char_to_num(letter) - self.k_2) * multiplicative_inverse(self.k_1, 26)) % 26 + ord('a'))\n",
    "             for letter in ciphertext.lower()]\n",
    "        )"
   ]
  },
  {
   "cell_type": "code",
   "execution_count": 59,
   "metadata": {},
   "outputs": [
    {
     "data": {
      "text/plain": [
       "'CVUUB'"
      ]
     },
     "execution_count": 59,
     "metadata": {},
     "output_type": "execute_result"
    }
   ],
   "source": [
    "cipher = AffineCipher(11, 3)\n",
    "cipher.encrypt('hello')"
   ]
  },
  {
   "cell_type": "code",
   "execution_count": 60,
   "metadata": {},
   "outputs": [
    {
     "data": {
      "text/plain": [
       "'hello'"
      ]
     },
     "execution_count": 60,
     "metadata": {},
     "output_type": "execute_result"
    }
   ],
   "source": [
    "cipher.decrypt('CVUUB')"
   ]
  },
  {
   "cell_type": "markdown",
   "metadata": {},
   "source": [
    "## 3.2 Polyalphabetic Ciphers\n",
    "### 3.2.1 Autokey Cipher\n",
    "In the autokey cipher the initial key $k$ is given and all subsequent keys are generated using the plaintext characters hence the keys become $(k, P_1, P_2, P_3 \\cdots)$.  "
   ]
  },
  {
   "cell_type": "code",
   "execution_count": 67,
   "metadata": {},
   "outputs": [],
   "source": [
    "class AutoKeyCipher:\n",
    "    def __init__(self, k):\n",
    "        self.k = k\n",
    "        \n",
    "    def encrypt(self, plaintext):\n",
    "        key = self.k\n",
    "        ciphertext = ''\n",
    "        for letter in plaintext.lower():\n",
    "            ciphertext += chr((ord(letter) - ord('a') + key) % 26 + ord('A'))\n",
    "            key = ord(letter) - ord('a')\n",
    "        return ciphertext\n",
    "    \n",
    "    def decrypt(self, ciphertext):\n",
    "        key = self.k\n",
    "        plaintext = ''\n",
    "        for letter in ciphertext.lower():\n",
    "            key = (ord(letter) - ord('a') - key) % 26\n",
    "            plaintext += chr(key + ord('a'))\n",
    "        return plaintext"
   ]
  },
  {
   "cell_type": "code",
   "execution_count": 68,
   "metadata": {},
   "outputs": [
    {
     "data": {
      "text/plain": [
       "'MTMTCMSALHRDY'"
      ]
     },
     "execution_count": 68,
     "metadata": {},
     "output_type": "execute_result"
    }
   ],
   "source": [
    "auto_key_cipher = AutoKeyCipher(12)\n",
    "auto_key_cipher.encrypt('attackistoday')"
   ]
  },
  {
   "cell_type": "code",
   "execution_count": 69,
   "metadata": {},
   "outputs": [
    {
     "data": {
      "text/plain": [
       "'attackistoday'"
      ]
     },
     "execution_count": 69,
     "metadata": {},
     "output_type": "execute_result"
    }
   ],
   "source": [
    "auto_key_cipher.decrypt('MTMTCMSALHRDY')"
   ]
  },
  {
   "cell_type": "code",
   "execution_count": null,
   "metadata": {},
   "outputs": [],
   "source": []
  }
 ],
 "metadata": {
  "kernelspec": {
   "display_name": "Python 3",
   "language": "python",
   "name": "python3"
  },
  "language_info": {
   "codemirror_mode": {
    "name": "ipython",
    "version": 3
   },
   "file_extension": ".py",
   "mimetype": "text/x-python",
   "name": "python",
   "nbconvert_exporter": "python",
   "pygments_lexer": "ipython3",
   "version": "3.8.3"
  }
 },
 "nbformat": 4,
 "nbformat_minor": 4
}
